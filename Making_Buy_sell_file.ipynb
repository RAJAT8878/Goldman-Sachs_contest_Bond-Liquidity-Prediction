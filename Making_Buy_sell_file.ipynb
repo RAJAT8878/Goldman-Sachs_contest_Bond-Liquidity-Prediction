{
 "cells": [
  {
   "cell_type": "code",
   "execution_count": 2,
   "metadata": {
    "collapsed": false
   },
   "outputs": [],
   "source": [
    "import numpy as np\n",
    "import pandas as pd\n",
    "from sklearn import *\n",
    "import random\n",
    "from sklearn.ensemble import GradientBoostingRegressor\n",
    "from sklearn.ensemble import RandomForestRegressor\n",
    "from sklearn.ensemble import AdaBoostRegressor\n",
    "from sklearn.ensemble import ExtraTreesRegressor\n",
    "from sklearn.naive_bayes import BernoulliNB\n",
    "from sklearn.naive_bayes import GaussianNB\n",
    "from sklearn.naive_bayes import MultinomialNB\n",
    "from datetime import datetime\n",
    "from matplotlib import pyplot as plt"
   ]
  },
  {
   "cell_type": "code",
   "execution_count": 4,
   "metadata": {
    "collapsed": false
   },
   "outputs": [],
   "source": [
    "df1= pd.read_csv(\"G:/Goldman Sachs/Bond Liquidity Prediction/ML_Bond_metadata.csv\")\n",
    "df2=pd.read_csv(\"G:/Goldman Sachs/Bond Liquidity Prediction/price_volume_dataset.csv\")\n",
    "df3=pd.read_csv(\"G:/Goldman Sachs/Bond Liquidity Prediction/new_price.csv\")"
   ]
  },
  {
   "cell_type": "code",
   "execution_count": 6,
   "metadata": {
    "collapsed": false
   },
   "outputs": [
    {
     "data": {
      "text/html": [
       "<div>\n",
       "<table border=\"1\" class=\"dataframe\">\n",
       "  <thead>\n",
       "    <tr style=\"text-align: right;\">\n",
       "      <th></th>\n",
       "      <th>isin</th>\n",
       "      <th>side</th>\n",
       "      <th>date</th>\n",
       "      <th>sum(volume)</th>\n",
       "      <th>time</th>\n",
       "    </tr>\n",
       "  </thead>\n",
       "  <tbody>\n",
       "    <tr>\n",
       "      <th>0</th>\n",
       "      <td>isin0</td>\n",
       "      <td>B</td>\n",
       "      <td>13-May-16</td>\n",
       "      <td>3870000</td>\n",
       "      <td>Fri 13May16 03:55:37.000 pm</td>\n",
       "    </tr>\n",
       "    <tr>\n",
       "      <th>1</th>\n",
       "      <td>isin0</td>\n",
       "      <td>B</td>\n",
       "      <td>18-Mar-16</td>\n",
       "      <td>3900000</td>\n",
       "      <td>Fri 18Mar16 02:01:42.000 pm</td>\n",
       "    </tr>\n",
       "    <tr>\n",
       "      <th>2</th>\n",
       "      <td>isin0</td>\n",
       "      <td>S</td>\n",
       "      <td>13-May-16</td>\n",
       "      <td>3870000</td>\n",
       "      <td>Fri 13May16 05:04:47.000 pm</td>\n",
       "    </tr>\n",
       "    <tr>\n",
       "      <th>3</th>\n",
       "      <td>isin0</td>\n",
       "      <td>S</td>\n",
       "      <td>18-Mar-16</td>\n",
       "      <td>7800000</td>\n",
       "      <td>Fri 18Mar16 11:54:44.000 am</td>\n",
       "    </tr>\n",
       "    <tr>\n",
       "      <th>4</th>\n",
       "      <td>isin1</td>\n",
       "      <td>B</td>\n",
       "      <td>6Apr2016</td>\n",
       "      <td>3900000</td>\n",
       "      <td>Wed  6Apr16 10:24:39.000 am</td>\n",
       "    </tr>\n",
       "  </tbody>\n",
       "</table>\n",
       "</div>"
      ],
      "text/plain": [
       "    isin side       date  sum(volume)                         time\n",
       "0  isin0    B  13-May-16      3870000  Fri 13May16 03:55:37.000 pm\n",
       "1  isin0    B  18-Mar-16      3900000  Fri 18Mar16 02:01:42.000 pm\n",
       "2  isin0    S  13-May-16      3870000  Fri 13May16 05:04:47.000 pm\n",
       "3  isin0    S  18-Mar-16      7800000  Fri 18Mar16 11:54:44.000 am\n",
       "4  isin1    B   6Apr2016      3900000  Wed  6Apr16 10:24:39.000 am"
      ]
     },
     "execution_count": 6,
     "metadata": {},
     "output_type": "execute_result"
    }
   ],
   "source": [
    "df3.head()"
   ]
  },
  {
   "cell_type": "code",
   "execution_count": 7,
   "metadata": {
    "collapsed": false
   },
   "outputs": [],
   "source": [
    "df3.side.replace('B',0,True)\n",
    "df3.side.replace('S',1,True)\n",
    "df4 = df3[df3['side'] >= 1]\n",
    "df5= df3[df3['side'] <= 0]"
   ]
  },
  {
   "cell_type": "code",
   "execution_count": 9,
   "metadata": {
    "collapsed": true
   },
   "outputs": [
    {
     "name": "stderr",
     "output_type": "stream",
     "text": [
      "C:\\Users\\RAJAT\\Anaconda3\\lib\\site-packages\\pandas\\core\\frame.py:2754: SettingWithCopyWarning: \n",
      "A value is trying to be set on a copy of a slice from a DataFrame\n",
      "\n",
      "See the caveats in the documentation: http://pandas.pydata.org/pandas-docs/stable/indexing.html#indexing-view-versus-copy\n",
      "  **kwargs)\n"
     ]
    }
   ],
   "source": [
    "df4.rename(columns={'isin': 'id'}, inplace=True)\n",
    "df5.rename(columns={'isin':  'id'},inplace= True)\n",
    "df4.rename(columns={'sum(volume)': 'sellvolume'}, inplace=True)\n",
    "df5.rename(columns={'sum(volume)':  'buyvolume'},inplace= True)"
   ]
  },
  {
   "cell_type": "code",
   "execution_count": 10,
   "metadata": {
    "collapsed": false
   },
   "outputs": [
    {
     "data": {
      "text/plain": [
       "count       176101\n",
       "unique        8193\n",
       "top       isin8135\n",
       "freq            61\n",
       "Name: id, dtype: object"
      ]
     },
     "execution_count": 10,
     "metadata": {},
     "output_type": "execute_result"
    }
   ],
   "source": [
    "df4.id.describe()"
   ]
  },
  {
   "cell_type": "code",
   "execution_count": 11,
   "metadata": {
    "collapsed": false
   },
   "outputs": [
    {
     "data": {
      "text/plain": [
       "count       172277\n",
       "unique        8586\n",
       "top       isin6243\n",
       "freq            61\n",
       "Name: id, dtype: object"
      ]
     },
     "execution_count": 11,
     "metadata": {},
     "output_type": "execute_result"
    }
   ],
   "source": [
    "df5.id.describe()"
   ]
  },
  {
   "cell_type": "code",
   "execution_count": 12,
   "metadata": {
    "collapsed": true
   },
   "outputs": [
    {
     "name": "stderr",
     "output_type": "stream",
     "text": [
      "C:\\Users\\RAJAT\\Anaconda3\\lib\\site-packages\\ipykernel\\__main__.py:1: SettingWithCopyWarning: \n",
      "A value is trying to be set on a copy of a slice from a DataFrame.\n",
      "Try using .loc[row_indexer,col_indexer] = value instead\n",
      "\n",
      "See the caveats in the documentation: http://pandas.pydata.org/pandas-docs/stable/indexing.html#indexing-view-versus-copy\n",
      "  if __name__ == '__main__':\n",
      "C:\\Users\\RAJAT\\Anaconda3\\lib\\site-packages\\ipykernel\\__main__.py:2: SettingWithCopyWarning: \n",
      "A value is trying to be set on a copy of a slice from a DataFrame.\n",
      "Try using .loc[row_indexer,col_indexer] = value instead\n",
      "\n",
      "See the caveats in the documentation: http://pandas.pydata.org/pandas-docs/stable/indexing.html#indexing-view-versus-copy\n",
      "  from ipykernel import kernelapp as app\n"
     ]
    }
   ],
   "source": [
    "df4['Day']=df4.time.apply(lambda x: x.split()[0]).values\n",
    "df5['Day']=df5.time.apply(lambda x: x.split()[0]).values"
   ]
  },
  {
   "cell_type": "code",
   "execution_count": null,
   "metadata": {
    "collapsed": false
   },
   "outputs": [],
   "source": []
  },
  {
   "cell_type": "code",
   "execution_count": 14,
   "metadata": {
    "collapsed": false
   },
   "outputs": [
    {
     "data": {
      "text/html": [
       "<div>\n",
       "<table border=\"1\" class=\"dataframe\">\n",
       "  <thead>\n",
       "    <tr style=\"text-align: right;\">\n",
       "      <th></th>\n",
       "      <th>id</th>\n",
       "      <th>side</th>\n",
       "      <th>date</th>\n",
       "      <th>buyvolume</th>\n",
       "      <th>time</th>\n",
       "      <th>Day</th>\n",
       "    </tr>\n",
       "  </thead>\n",
       "  <tbody>\n",
       "    <tr>\n",
       "      <th>0</th>\n",
       "      <td>isin0</td>\n",
       "      <td>0</td>\n",
       "      <td>13-May-16</td>\n",
       "      <td>3870000</td>\n",
       "      <td>Fri 13May16 03:55:37.000 pm</td>\n",
       "      <td>Fri</td>\n",
       "    </tr>\n",
       "    <tr>\n",
       "      <th>1</th>\n",
       "      <td>isin0</td>\n",
       "      <td>0</td>\n",
       "      <td>18-Mar-16</td>\n",
       "      <td>3900000</td>\n",
       "      <td>Fri 18Mar16 02:01:42.000 pm</td>\n",
       "      <td>Fri</td>\n",
       "    </tr>\n",
       "    <tr>\n",
       "      <th>4</th>\n",
       "      <td>isin1</td>\n",
       "      <td>0</td>\n",
       "      <td>6Apr2016</td>\n",
       "      <td>3900000</td>\n",
       "      <td>Wed  6Apr16 10:24:39.000 am</td>\n",
       "      <td>Wed</td>\n",
       "    </tr>\n",
       "    <tr>\n",
       "      <th>5</th>\n",
       "      <td>isin1</td>\n",
       "      <td>0</td>\n",
       "      <td>8Apr2016</td>\n",
       "      <td>740000</td>\n",
       "      <td>Fri  8Apr16 03:33:00.000 pm</td>\n",
       "      <td>Fri</td>\n",
       "    </tr>\n",
       "    <tr>\n",
       "      <th>6</th>\n",
       "      <td>isin1</td>\n",
       "      <td>0</td>\n",
       "      <td>9Jun2016</td>\n",
       "      <td>100000</td>\n",
       "      <td>Thu  9Jun16 11:00:00.000 am</td>\n",
       "      <td>Thu</td>\n",
       "    </tr>\n",
       "  </tbody>\n",
       "</table>\n",
       "</div>"
      ],
      "text/plain": [
       "      id  side       date  buyvolume                         time  Day\n",
       "0  isin0     0  13-May-16    3870000  Fri 13May16 03:55:37.000 pm  Fri\n",
       "1  isin0     0  18-Mar-16    3900000  Fri 18Mar16 02:01:42.000 pm  Fri\n",
       "4  isin1     0   6Apr2016    3900000  Wed  6Apr16 10:24:39.000 am  Wed\n",
       "5  isin1     0   8Apr2016     740000  Fri  8Apr16 03:33:00.000 pm  Fri\n",
       "6  isin1     0   9Jun2016     100000  Thu  9Jun16 11:00:00.000 am  Thu"
      ]
     },
     "execution_count": 14,
     "metadata": {},
     "output_type": "execute_result"
    }
   ],
   "source": [
    "df5.head()"
   ]
  },
  {
   "cell_type": "code",
   "execution_count": 13,
   "metadata": {
    "collapsed": false
   },
   "outputs": [
    {
     "data": {
      "text/html": [
       "<div>\n",
       "<table border=\"1\" class=\"dataframe\">\n",
       "  <thead>\n",
       "    <tr style=\"text-align: right;\">\n",
       "      <th></th>\n",
       "      <th>id</th>\n",
       "      <th>side</th>\n",
       "      <th>date</th>\n",
       "      <th>sellvolume</th>\n",
       "      <th>time</th>\n",
       "      <th>Day</th>\n",
       "    </tr>\n",
       "  </thead>\n",
       "  <tbody>\n",
       "    <tr>\n",
       "      <th>2</th>\n",
       "      <td>isin0</td>\n",
       "      <td>1</td>\n",
       "      <td>13-May-16</td>\n",
       "      <td>3870000</td>\n",
       "      <td>Fri 13May16 05:04:47.000 pm</td>\n",
       "      <td>Fri</td>\n",
       "    </tr>\n",
       "    <tr>\n",
       "      <th>3</th>\n",
       "      <td>isin0</td>\n",
       "      <td>1</td>\n",
       "      <td>18-Mar-16</td>\n",
       "      <td>7800000</td>\n",
       "      <td>Fri 18Mar16 11:54:44.000 am</td>\n",
       "      <td>Fri</td>\n",
       "    </tr>\n",
       "    <tr>\n",
       "      <th>13</th>\n",
       "      <td>isin1</td>\n",
       "      <td>1</td>\n",
       "      <td>6Apr2016</td>\n",
       "      <td>4210000</td>\n",
       "      <td>Wed  6Apr16 10:35:21.000 am</td>\n",
       "      <td>Wed</td>\n",
       "    </tr>\n",
       "    <tr>\n",
       "      <th>14</th>\n",
       "      <td>isin1</td>\n",
       "      <td>1</td>\n",
       "      <td>8Apr2016</td>\n",
       "      <td>250000</td>\n",
       "      <td>Fri  8Apr16 03:10:40.000 pm</td>\n",
       "      <td>Fri</td>\n",
       "    </tr>\n",
       "    <tr>\n",
       "      <th>15</th>\n",
       "      <td>isin1</td>\n",
       "      <td>1</td>\n",
       "      <td>9Jun2016</td>\n",
       "      <td>50000</td>\n",
       "      <td>Thu  9Jun16 11:04:23.000 am</td>\n",
       "      <td>Thu</td>\n",
       "    </tr>\n",
       "  </tbody>\n",
       "</table>\n",
       "</div>"
      ],
      "text/plain": [
       "       id  side       date  sellvolume                         time  Day\n",
       "2   isin0     1  13-May-16     3870000  Fri 13May16 05:04:47.000 pm  Fri\n",
       "3   isin0     1  18-Mar-16     7800000  Fri 18Mar16 11:54:44.000 am  Fri\n",
       "13  isin1     1   6Apr2016     4210000  Wed  6Apr16 10:35:21.000 am  Wed\n",
       "14  isin1     1   8Apr2016      250000  Fri  8Apr16 03:10:40.000 pm  Fri\n",
       "15  isin1     1   9Jun2016       50000  Thu  9Jun16 11:04:23.000 am  Thu"
      ]
     },
     "execution_count": 13,
     "metadata": {},
     "output_type": "execute_result"
    }
   ],
   "source": [
    "df4.head()"
   ]
  },
  {
   "cell_type": "code",
   "execution_count": 15,
   "metadata": {
    "collapsed": false
   },
   "outputs": [],
   "source": [
    "# df3['Date']=df3['Date'].str.replace('Mar','03')\n",
    "# df3['Date']=df3['Date'].str.replace('Apr','04')\n",
    "# df3['Date']=df3['Date'].str.replace('May','05')\n",
    "# df3['Date']=df3['Date'].str.replace('Jun','06')"
   ]
  },
  {
   "cell_type": "code",
   "execution_count": 16,
   "metadata": {
    "collapsed": false
   },
   "outputs": [],
   "source": [
    "# df4['Date']=df4['Date'].str.replace('Mar','03')\n",
    "# df4['Date']=df4['Date'].str.replace('Apr','04')\n",
    "# df4['Date']=df4['Date'].str.replace('May','05')\n",
    "# df4['Date']=df4['Date'].str.replace('Jun','06')"
   ]
  },
  {
   "cell_type": "code",
   "execution_count": 17,
   "metadata": {
    "collapsed": false
   },
   "outputs": [],
   "source": [
    "# df3['month']=pd.to_datetime(df3['Date'], format='%d%m%y').dt.month\n",
    "# df4['month']=pd.to_datetime(df4['Date'], format='%d%m%y').dt.month\n",
    "# df3['day']=pd.to_datetime(df3['Date'], format='%d%m%y').dt.day\n",
    "# df4['day']=pd.to_datetime(df4['Date'], format='%d%m%y').dt.day\n",
    "# df3['hour'] = pd.to_datetime(df3['Time'], format= '%h:%m:%s').dt.hour\n",
    "# df4['hour'] = pd.to_datetime(df4['time'], format= '%H:%M:%S').dt.hour\n",
    "# df3['minute'] = pd.to_datetime(df['Time'], format= '%H:%M:%S').dt.minute\n",
    "# df4['minute'] = pd.to_datetime(df['Time'], format= '%H:%M:%S').dt.minute"
   ]
  },
  {
   "cell_type": "code",
   "execution_count": 19,
   "metadata": {
    "collapsed": false
   },
   "outputs": [],
   "source": [
    "file1=pd.DataFrame(df4)\n",
    "file2=pd.DataFrame(df5)\n",
    "file1.to_csv(\"G:/Goldman Sachs/Bond Liquidity Prediction/sell.csv\",index=False)\n",
    "file2.to_csv(\"G:/Goldman Sachs/Bond Liquidity Prediction/buy.csv\",index=False)"
   ]
  }
 ],
 "metadata": {
  "anaconda-cloud": {},
  "kernelspec": {
   "display_name": "Python [Root]",
   "language": "python",
   "name": "Python [Root]"
  },
  "language_info": {
   "codemirror_mode": {
    "name": "ipython",
    "version": 3
   },
   "file_extension": ".py",
   "mimetype": "text/x-python",
   "name": "python",
   "nbconvert_exporter": "python",
   "pygments_lexer": "ipython3",
   "version": "3.5.2"
  }
 },
 "nbformat": 4,
 "nbformat_minor": 0
}
