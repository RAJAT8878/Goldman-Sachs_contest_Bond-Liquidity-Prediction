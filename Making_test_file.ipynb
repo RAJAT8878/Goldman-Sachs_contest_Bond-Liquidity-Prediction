{
 "cells": [
  {
   "cell_type": "code",
   "execution_count": 2,
   "metadata": {
    "collapsed": false
   },
   "outputs": [],
   "source": [
    "import numpy as np\n",
    "import pandas as pd\n",
    "from sklearn import *\n",
    "import random\n",
    "from sklearn.ensemble import GradientBoostingRegressor\n",
    "from sklearn.ensemble import RandomForestRegressor\n",
    "from sklearn.ensemble import AdaBoostRegressor\n",
    "from sklearn.ensemble import ExtraTreesRegressor\n",
    "from sklearn.naive_bayes import BernoulliNB\n",
    "from sklearn.naive_bayes import GaussianNB\n",
    "from sklearn.naive_bayes import MultinomialNB\n",
    "from datetime import datetime\n",
    "from matplotlib import pyplot as plt"
   ]
  },
  {
   "cell_type": "code",
   "execution_count": 3,
   "metadata": {
    "collapsed": true
   },
   "outputs": [],
   "source": [
    "df1= pd.read_csv(\"G:/Goldman Sachs/Bond Liquidity Prediction/ML_Bond_metadata.csv\")"
   ]
  },
  {
   "cell_type": "code",
   "execution_count": 4,
   "metadata": {
    "collapsed": true
   },
   "outputs": [],
   "source": [
    "df1.rename(columns={'isin': 'id'}, inplace=True)\n",
    "df1['Day']= 5"
   ]
  },
  {
   "cell_type": "code",
   "execution_count": 5,
   "metadata": {
    "collapsed": true
   },
   "outputs": [],
   "source": [
    "df1['amtIssued']= np.sqrt(np.log(df1['amtIssued']))\n",
    "df1['amtOutstanding']= np.sqrt(np.log(df1['amtOutstanding']))\n",
    "df1.issueDate.replace(np.NaN,-1,inplace=True)\n",
    "df1.maturity.replace(np.NaN,-1,inplace= True)\n",
    "df1.issueDate=pd.to_datetime(df1.issueDate)\n",
    "df1.maturity=pd.to_datetime(df1.maturity)\n",
    "df1['issue_year']=df1.issueDate.dt.year\n",
    "df1['issue_month']=df1.issueDate.dt.month\n",
    "df1['issue_day']=df1.issueDate.dt.dayofweek\n",
    "df1['maturity_year']=df1.maturity.dt.year\n",
    "df1['maturity_month']=df1.maturity.dt.month\n",
    "df1['maturity_day']=df1.maturity.dt.dayofweek\n",
    "df1.couponFrequency.replace(np.NaN, -1,inplace= 1)\n",
    "df1.ratingAgency1EffectiveDate.replace(np.NaN,-1,inplace=True)\n",
    "df1.ratingAgency2EffectiveDate.replace(np.NaN,-1,inplace= True)\n",
    "df1.ratingAgency1EffectiveDate=pd.to_datetime(df1.ratingAgency1EffectiveDate)\n",
    "df1.ratingAgency2EffectiveDate=pd.to_datetime(df1.ratingAgency2EffectiveDate)\n",
    "df1['ratingAgency1_year']=df1.ratingAgency1EffectiveDate.dt.year\n",
    "df1['ratingAgency1_month']=df1.ratingAgency1EffectiveDate.dt.month\n",
    "df1['ratingAgency1_day']=df1.ratingAgency1EffectiveDate.dt.dayofweek\n",
    "df1['ratingAgency2_year']=df1.ratingAgency2EffectiveDate.dt.year\n",
    "df1['ratingAgency2_month']=df1.ratingAgency2EffectiveDate.dt.month\n",
    "df1['ratingAgency2_day']=df1.ratingAgency2EffectiveDate.dt.dayofweek\n",
    "df1['Day_differ']=df1.maturity-df1.issueDate"
   ]
  },
  {
   "cell_type": "code",
   "execution_count": 6,
   "metadata": {
    "collapsed": false
   },
   "outputs": [
    {
     "data": {
      "text/plain": [
       "count    17261.000000\n",
       "mean      4284.689126\n",
       "std       4357.315430\n",
       "min     -17108.000000\n",
       "25%       1857.000000\n",
       "50%       3641.000000\n",
       "75%       4395.000000\n",
       "max      36723.000000\n",
       "Name: Day_differ, dtype: float64"
      ]
     },
     "execution_count": 6,
     "metadata": {},
     "output_type": "execute_result"
    }
   ],
   "source": [
    "df1['Day_differ']=(df1.Day_differ/np.timedelta64(1,'D')).astype(int)\n",
    "df1.Day_differ.describe()"
   ]
  },
  {
   "cell_type": "code",
   "execution_count": 7,
   "metadata": {
    "collapsed": false
   },
   "outputs": [],
   "source": [
    "for column in ['market','collateralType','couponType','industryGroup','industrySector','industrySubgroup','maturityType','securityType','paymentRank','ratingAgency1Rating','ratingAgency1Watch','ratingAgency2Rating','ratingAgency2Watch']:\n",
    "    dummies = pd.get_dummies(df1[column])\n",
    "    df1[dummies.columns] = dummies"
   ]
  },
  {
   "cell_type": "code",
   "execution_count": 8,
   "metadata": {
    "collapsed": false
   },
   "outputs": [],
   "source": [
    "df1.drop(['issueDate','market','collateralType','couponType','industryGroup','industrySector','industrySubgroup','maturity','maturityType','securityType','paymentRank','ratingAgency1Rating','ratingAgency1Watch','ratingAgency2Rating','ratingAgency2Watch','ratingAgency1EffectiveDate','ratingAgency2EffectiveDate'], axis=1, inplace=True)"
   ]
  },
  {
   "cell_type": "code",
   "execution_count": 10,
   "metadata": {
    "collapsed": false
   },
   "outputs": [
    {
     "data": {
      "text/plain": [
       "id                     False\n",
       "issuer                 False\n",
       "amtIssued              False\n",
       "amtOutstanding         False\n",
       "coupon                 False\n",
       "couponFrequency        False\n",
       "144aFlag               False\n",
       "Day                    False\n",
       "issue_year             False\n",
       "issue_month            False\n",
       "issue_day              False\n",
       "maturity_year          False\n",
       "maturity_month         False\n",
       "maturity_day           False\n",
       "ratingAgency1_year     False\n",
       "ratingAgency1_month    False\n",
       "ratingAgency1_day      False\n",
       "ratingAgency2_year     False\n",
       "ratingAgency2_month    False\n",
       "ratingAgency2_day      False\n",
       "Day_differ             False\n",
       "Market0                False\n",
       "Market1                False\n",
       "Market2                False\n",
       "Market3                False\n",
       "collateralType0        False\n",
       "collateralType1        False\n",
       "collateralType10       False\n",
       "collateralType11       False\n",
       "collateralType12       False\n",
       "                       ...  \n",
       "rating1                False\n",
       "rating10               False\n",
       "rating11               False\n",
       "rating12               False\n",
       "rating13               False\n",
       "rating14               False\n",
       "rating15               False\n",
       "rating16               False\n",
       "rating17               False\n",
       "rating18               False\n",
       "rating19               False\n",
       "rating2                False\n",
       "rating20               False\n",
       "rating21               False\n",
       "rating22               False\n",
       "rating23               False\n",
       "rating24               False\n",
       "rating25               False\n",
       "rating26               False\n",
       "rating3                False\n",
       "rating4                False\n",
       "rating5                False\n",
       "rating6                False\n",
       "rating7                False\n",
       "rating8                False\n",
       "rating9                False\n",
       "watch0                 False\n",
       "watch1                 False\n",
       "watch2                 False\n",
       "watch3                 False\n",
       "dtype: bool"
      ]
     },
     "execution_count": 10,
     "metadata": {},
     "output_type": "execute_result"
    }
   ],
   "source": [
    "df1.isnull().any()"
   ]
  },
  {
   "cell_type": "code",
   "execution_count": 10,
   "metadata": {
    "collapsed": false
   },
   "outputs": [],
   "source": [
    "df1.rename(columns={'144aFlag': 'Flag'}, inplace=True)"
   ]
  },
  {
   "cell_type": "code",
   "execution_count": 11,
   "metadata": {
    "collapsed": false
   },
   "outputs": [],
   "source": [
    "df1.Flag.replace('flag0',0,inplace= 1)\n",
    "df1.Flag.replace('flag1',1,inplace= 1)"
   ]
  },
  {
   "cell_type": "code",
   "execution_count": 12,
   "metadata": {
    "collapsed": false
   },
   "outputs": [],
   "source": [
    "new=pd.DataFrame(df1)\n",
    "new.to_csv(\"G:/Goldman Sachs/Bond Liquidity Prediction/test_10jun2016.csv\",index= False)"
   ]
  },
  {
   "cell_type": "code",
   "execution_count": 11,
   "metadata": {
    "collapsed": true
   },
   "outputs": [],
   "source": [
    "# for elem in df1['market'].unique():\n",
    "#     df1[str(elem)] = df1['market'] == elem"
   ]
  },
  {
   "cell_type": "code",
   "execution_count": 6,
   "metadata": {
    "collapsed": true
   },
   "outputs": [],
   "source": [
    "# for elem in df1['collateralType'].unique():\n",
    "#     df1[str(elem)] = df1['collateralType'] == elem"
   ]
  },
  {
   "cell_type": "code",
   "execution_count": 7,
   "metadata": {
    "collapsed": true
   },
   "outputs": [],
   "source": [
    "# for elem in df1['couponType'].unique():\n",
    "#     df1[str(elem)] = df1['couponType'] == elem"
   ]
  },
  {
   "cell_type": "code",
   "execution_count": 8,
   "metadata": {
    "collapsed": true
   },
   "outputs": [],
   "source": [
    "# for elem in df1['industryGroup'].unique():\n",
    "#     df1[str(elem)] = df1['industryGroup'] == elem"
   ]
  },
  {
   "cell_type": "code",
   "execution_count": 9,
   "metadata": {
    "collapsed": true
   },
   "outputs": [],
   "source": [
    "# for elem in df1['industrySector'].unique():\n",
    "#     df1[str(elem)] = df1['industrySector'] == elem"
   ]
  },
  {
   "cell_type": "code",
   "execution_count": 10,
   "metadata": {
    "collapsed": true
   },
   "outputs": [],
   "source": [
    "# for elem in df1['industrySubgroup'].unique():\n",
    "#     df1[str(elem)] = df1['industrySubgroup'] == elem"
   ]
  },
  {
   "cell_type": "code",
   "execution_count": 11,
   "metadata": {
    "collapsed": true
   },
   "outputs": [],
   "source": [
    "# for elem in df1['maturityType'].unique():\n",
    "#     df1[str(elem)] = df1['maturityType'] == elem"
   ]
  },
  {
   "cell_type": "code",
   "execution_count": 12,
   "metadata": {
    "collapsed": true
   },
   "outputs": [],
   "source": [
    "# for elem in df1['securityType'].unique():\n",
    "#     df1[str(elem)] = df1['securityType'] == elem"
   ]
  },
  {
   "cell_type": "code",
   "execution_count": 13,
   "metadata": {
    "collapsed": true
   },
   "outputs": [],
   "source": [
    "# for elem in df1['paymentRank'].unique():\n",
    "#     df1[str(elem)] = df1['paymentRank'] == elem"
   ]
  },
  {
   "cell_type": "code",
   "execution_count": 14,
   "metadata": {
    "collapsed": true
   },
   "outputs": [],
   "source": [
    "# for elem in df1['ratingAgency1Rating'].unique():\n",
    "#     df1[str(elem)] = df1['ratingAgency1Rating'] == elem"
   ]
  },
  {
   "cell_type": "code",
   "execution_count": 15,
   "metadata": {
    "collapsed": true
   },
   "outputs": [],
   "source": [
    "# for elem in df1['ratingAgency1Watch'].unique():\n",
    "#     df1[str(elem)] = df1['ratingAgency1Watch'] == elem"
   ]
  },
  {
   "cell_type": "code",
   "execution_count": 16,
   "metadata": {
    "collapsed": true
   },
   "outputs": [],
   "source": [
    "# for elem in df1['ratingAgency2Rating'].unique():\n",
    "#     df1[str(elem)] = df1['ratingAgency2Rating'] == elem"
   ]
  },
  {
   "cell_type": "code",
   "execution_count": 17,
   "metadata": {
    "collapsed": true
   },
   "outputs": [],
   "source": [
    "# for elem in df1['ratingAgency2Watch'].unique():\n",
    "#     df1[str(elem)] = df1['ratingAgency2Watch'] == elem"
   ]
  },
  {
   "cell_type": "code",
   "execution_count": 18,
   "metadata": {
    "collapsed": true
   },
   "outputs": [],
   "source": []
  },
  {
   "cell_type": "code",
   "execution_count": 23,
   "metadata": {
    "collapsed": false
   },
   "outputs": [],
   "source": [
    "# df1.drop(['issueDate','market','collateralType','couponType','industryGroup','industrySector','industrySubgroup','maturity','maturityType','securityType','paymentRank','ratingAgency1Rating','ratingAgency1Watch','ratingAgency2Rating','ratingAgency2Watch'], axis=1, inplace=True)"
   ]
  },
  {
   "cell_type": "code",
   "execution_count": 26,
   "metadata": {
    "collapsed": false
   },
   "outputs": [],
   "source": [
    "df1.drop(['ratingAgency1EffectiveDate','ratingAgency2EffectiveDate'],axis=1,inplace=True)"
   ]
  },
  {
   "cell_type": "code",
   "execution_count": 28,
   "metadata": {
    "collapsed": false
   },
   "outputs": [
    {
     "data": {
      "text/html": [
       "<div>\n",
       "<table border=\"1\" class=\"dataframe\">\n",
       "  <thead>\n",
       "    <tr style=\"text-align: right;\">\n",
       "      <th></th>\n",
       "      <th>id</th>\n",
       "      <th>issuer</th>\n",
       "      <th>amtIssued</th>\n",
       "      <th>amtOutstanding</th>\n",
       "      <th>coupon</th>\n",
       "      <th>couponFrequency</th>\n",
       "      <th>144aFlag</th>\n",
       "      <th>Day</th>\n",
       "      <th>Market2</th>\n",
       "      <th>Market1</th>\n",
       "      <th>...</th>\n",
       "      <th>maturity_year</th>\n",
       "      <th>maturity_month</th>\n",
       "      <th>maturity_day</th>\n",
       "      <th>ratingAgency1_year</th>\n",
       "      <th>ratingAgency1_month</th>\n",
       "      <th>ratingAgency1_day</th>\n",
       "      <th>ratingAgency2_year</th>\n",
       "      <th>ratingAgency2_month</th>\n",
       "      <th>ratingAgency2_day</th>\n",
       "      <th>Day_differ</th>\n",
       "    </tr>\n",
       "  </thead>\n",
       "  <tbody>\n",
       "    <tr>\n",
       "      <th>0</th>\n",
       "      <td>isin0</td>\n",
       "      <td>issuer490</td>\n",
       "      <td>4.361928</td>\n",
       "      <td>4.361928</td>\n",
       "      <td>10.000</td>\n",
       "      <td>2.0</td>\n",
       "      <td>flag0</td>\n",
       "      <td>Fri</td>\n",
       "      <td>True</td>\n",
       "      <td>False</td>\n",
       "      <td>...</td>\n",
       "      <td>2016</td>\n",
       "      <td>6</td>\n",
       "      <td>6</td>\n",
       "      <td>1969</td>\n",
       "      <td>12</td>\n",
       "      <td>2</td>\n",
       "      <td>1969</td>\n",
       "      <td>12</td>\n",
       "      <td>2</td>\n",
       "      <td>1766 days</td>\n",
       "    </tr>\n",
       "    <tr>\n",
       "      <th>1</th>\n",
       "      <td>isin1</td>\n",
       "      <td>issuer1193</td>\n",
       "      <td>4.402623</td>\n",
       "      <td>4.371346</td>\n",
       "      <td>5.500</td>\n",
       "      <td>2.0</td>\n",
       "      <td>flag0</td>\n",
       "      <td>Fri</td>\n",
       "      <td>True</td>\n",
       "      <td>False</td>\n",
       "      <td>...</td>\n",
       "      <td>2017</td>\n",
       "      <td>8</td>\n",
       "      <td>2</td>\n",
       "      <td>1969</td>\n",
       "      <td>12</td>\n",
       "      <td>2</td>\n",
       "      <td>1969</td>\n",
       "      <td>12</td>\n",
       "      <td>2</td>\n",
       "      <td>2496 days</td>\n",
       "    </tr>\n",
       "    <tr>\n",
       "      <th>2</th>\n",
       "      <td>isin2</td>\n",
       "      <td>issuer2943</td>\n",
       "      <td>4.263698</td>\n",
       "      <td>4.263698</td>\n",
       "      <td>5.750</td>\n",
       "      <td>2.0</td>\n",
       "      <td>flag1</td>\n",
       "      <td>Fri</td>\n",
       "      <td>True</td>\n",
       "      <td>False</td>\n",
       "      <td>...</td>\n",
       "      <td>2019</td>\n",
       "      <td>5</td>\n",
       "      <td>6</td>\n",
       "      <td>1969</td>\n",
       "      <td>12</td>\n",
       "      <td>2</td>\n",
       "      <td>1969</td>\n",
       "      <td>12</td>\n",
       "      <td>2</td>\n",
       "      <td>1640 days</td>\n",
       "    </tr>\n",
       "    <tr>\n",
       "      <th>3</th>\n",
       "      <td>isin3</td>\n",
       "      <td>issuer3707</td>\n",
       "      <td>4.601614</td>\n",
       "      <td>4.601614</td>\n",
       "      <td>4.750</td>\n",
       "      <td>1.0</td>\n",
       "      <td>flag0</td>\n",
       "      <td>Fri</td>\n",
       "      <td>False</td>\n",
       "      <td>True</td>\n",
       "      <td>...</td>\n",
       "      <td>2023</td>\n",
       "      <td>2</td>\n",
       "      <td>4</td>\n",
       "      <td>2016</td>\n",
       "      <td>3</td>\n",
       "      <td>2</td>\n",
       "      <td>2013</td>\n",
       "      <td>2</td>\n",
       "      <td>1</td>\n",
       "      <td>3593 days</td>\n",
       "    </tr>\n",
       "    <tr>\n",
       "      <th>4</th>\n",
       "      <td>isin4</td>\n",
       "      <td>issuer3711</td>\n",
       "      <td>4.581761</td>\n",
       "      <td>4.581761</td>\n",
       "      <td>7.125</td>\n",
       "      <td>1.0</td>\n",
       "      <td>flag0</td>\n",
       "      <td>Fri</td>\n",
       "      <td>False</td>\n",
       "      <td>False</td>\n",
       "      <td>...</td>\n",
       "      <td>1969</td>\n",
       "      <td>12</td>\n",
       "      <td>2</td>\n",
       "      <td>2016</td>\n",
       "      <td>3</td>\n",
       "      <td>2</td>\n",
       "      <td>1969</td>\n",
       "      <td>12</td>\n",
       "      <td>2</td>\n",
       "      <td>-16399 days</td>\n",
       "    </tr>\n",
       "  </tbody>\n",
       "</table>\n",
       "<p>5 rows × 587 columns</p>\n",
       "</div>"
      ],
      "text/plain": [
       "      id      issuer  amtIssued  amtOutstanding  coupon  couponFrequency  \\\n",
       "0  isin0   issuer490   4.361928        4.361928  10.000              2.0   \n",
       "1  isin1  issuer1193   4.402623        4.371346   5.500              2.0   \n",
       "2  isin2  issuer2943   4.263698        4.263698   5.750              2.0   \n",
       "3  isin3  issuer3707   4.601614        4.601614   4.750              1.0   \n",
       "4  isin4  issuer3711   4.581761        4.581761   7.125              1.0   \n",
       "\n",
       "  144aFlag  Day Market2 Market1     ...     maturity_year maturity_month  \\\n",
       "0    flag0  Fri    True   False     ...              2016              6   \n",
       "1    flag0  Fri    True   False     ...              2017              8   \n",
       "2    flag1  Fri    True   False     ...              2019              5   \n",
       "3    flag0  Fri   False    True     ...              2023              2   \n",
       "4    flag0  Fri   False   False     ...              1969             12   \n",
       "\n",
       "  maturity_day ratingAgency1_year ratingAgency1_month ratingAgency1_day  \\\n",
       "0            6               1969                  12                 2   \n",
       "1            2               1969                  12                 2   \n",
       "2            6               1969                  12                 2   \n",
       "3            4               2016                   3                 2   \n",
       "4            2               2016                   3                 2   \n",
       "\n",
       "  ratingAgency2_year ratingAgency2_month ratingAgency2_day  Day_differ  \n",
       "0               1969                  12                 2   1766 days  \n",
       "1               1969                  12                 2   2496 days  \n",
       "2               1969                  12                 2   1640 days  \n",
       "3               2013                   2                 1   3593 days  \n",
       "4               1969                  12                 2 -16399 days  \n",
       "\n",
       "[5 rows x 587 columns]"
      ]
     },
     "execution_count": 28,
     "metadata": {},
     "output_type": "execute_result"
    }
   ],
   "source": [
    "df1.head()"
   ]
  }
 ],
 "metadata": {
  "anaconda-cloud": {},
  "kernelspec": {
   "display_name": "Python [Root]",
   "language": "python",
   "name": "Python [Root]"
  },
  "language_info": {
   "codemirror_mode": {
    "name": "ipython",
    "version": 3
   },
   "file_extension": ".py",
   "mimetype": "text/x-python",
   "name": "python",
   "nbconvert_exporter": "python",
   "pygments_lexer": "ipython3",
   "version": "3.5.2"
  }
 },
 "nbformat": 4,
 "nbformat_minor": 0
}
