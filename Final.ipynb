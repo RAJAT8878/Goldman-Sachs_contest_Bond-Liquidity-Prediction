{
 "cells": [
  {
   "cell_type": "code",
   "execution_count": 2,
   "metadata": {
    "collapsed": false
   },
   "outputs": [],
   "source": [
    "import pandas as pd\n",
    "import numpy as np\n",
    "from sklearn import *\n",
    "import random"
   ]
  },
  {
   "cell_type": "code",
   "execution_count": 4,
   "metadata": {
    "collapsed": false
   },
   "outputs": [],
   "source": [
    "f1=pd.read_csv(\"C:/Users/Rajat/Desktop/AD_10jun_buyvolume.csv\")\n",
    "f2=pd.read_csv(\"C:/Users/Rajat/Desktop/AD_13jun_buyvolume.csv\")\n",
    "f3=pd.read_csv(\"C:/Users/Rajat/Desktop/AD_14jun_buyvolume.csv\")\n",
    "f4=pd.read_csv(\"C:/Users/Rajat/Desktop/AD_10jun_sellvolume.csv\")\n",
    "f5=pd.read_csv(\"C:/Users/Rajat/Desktop/AD_13jun_sellvolume.csv\")\n",
    "f6=pd.read_csv(\"C:/Users/Rajat/Desktop/AD_14jun_sellvolume.csv\")"
   ]
  },
  {
   "cell_type": "code",
   "execution_count": 5,
   "metadata": {
    "collapsed": false
   },
   "outputs": [],
   "source": [
    "buy=pd.merge(pd.merge(f1,f2,on='id'),f3,on='id')\n",
    "sell=pd.merge(pd.merge(f4,f5,on='id'),f6,on='id')"
   ]
  },
  {
   "cell_type": "code",
   "execution_count": 6,
   "metadata": {
    "collapsed": true
   },
   "outputs": [],
   "source": [
    "final=pd.merge(buy,sell,on='id')"
   ]
  },
  {
   "cell_type": "code",
   "execution_count": 7,
   "metadata": {
    "collapsed": true
   },
   "outputs": [],
   "source": [
    "final['buyvolume']=final.buyvolume_10+final.buyvolume_13+final.buyvolume_14\n",
    "final['sellvolume']=final.sellvolume_10+final.sellvolume_13+final.sellvolume_14"
   ]
  },
  {
   "cell_type": "code",
   "execution_count": 8,
   "metadata": {
    "collapsed": false
   },
   "outputs": [],
   "source": [
    "final.drop(['buyvolume_10','buyvolume_13','buyvolume_14','sellvolume_10','sellvolume_13','sellvolume_14'],axis=1,inplace=True)\n",
    "final.to_csv(\"C:/Users/Rajat/Desktop/AD_final.csv\",index=False)"
   ]
  }
 ],
 "metadata": {
  "anaconda-cloud": {},
  "kernelspec": {
   "display_name": "Python [Root]",
   "language": "python",
   "name": "Python [Root]"
  },
  "language_info": {
   "codemirror_mode": {
    "name": "ipython",
    "version": 3
   },
   "file_extension": ".py",
   "mimetype": "text/x-python",
   "name": "python",
   "nbconvert_exporter": "python",
   "pygments_lexer": "ipython3",
   "version": "3.5.2"
  }
 },
 "nbformat": 4,
 "nbformat_minor": 0
}
