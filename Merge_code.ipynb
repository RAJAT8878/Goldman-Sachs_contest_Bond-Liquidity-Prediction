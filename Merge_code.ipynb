{
 "cells": [
  {
   "cell_type": "code",
   "execution_count": 2,
   "metadata": {
    "collapsed": false
   },
   "outputs": [],
   "source": [
    "import pandas as pd\n",
    "import numpy as np\n",
    "from sklearn import *\n",
    "import random\n",
    "from sklearn.ensemble import GradientBoostingRegressor\n",
    "from sklearn.ensemble import RandomForestRegressor\n",
    "from sklearn.ensemble import AdaBoostRegressor\n",
    "from sklearn.ensemble import ExtraTreesRegressor\n",
    "from sklearn.naive_bayes import BernoulliNB\n",
    "from sklearn.naive_bayes import GaussianNB\n",
    "from sklearn.naive_bayes import MultinomialNB\n",
    "from datetime import datetime\n",
    "from matplotlib import pyplot as plt"
   ]
  },
  {
   "cell_type": "code",
   "execution_count": 3,
   "metadata": {
    "collapsed": true
   },
   "outputs": [],
   "source": [
    "f1=pd.read_csv(\"G:/Goldman Sachs/Bond Liquidity Prediction/sell.csv\")\n",
    "f2=pd.read_csv(\"G:/Goldman Sachs/Bond Liquidity Prediction/buy.csv\")\n",
    "f3=pd.read_csv(\"C:/Users/Rajat/Desktop/RF_Score-48/RF_10jun_buyvolume_cv.csv\")\n",
    "f4=pd.read_csv(\"C:/Users/Rajat/Desktop/RF_Score-48/RF_10jun_buyvolume.csv\")\n",
    "f5=pd.read_csv(\"C:/Users/Rajat/Desktop/RF_Score-53/RF_10jun_buyvolume_cv.csv\")\n",
    "f6=pd.read_csv(\"C:/Users/Rajat/Desktop/RF_Score-53/RF_10jun_buyvolume.csv\")\n",
    "f7=pd.read_csv(\"C:/Users/Rajat/Desktop/GB_Score-57/GB_10jun_buyvolume_cv.csv\")\n",
    "f8=pd.read_csv(\"C:/Users/Rajat/Desktop/GB_Score-57/GB_10jun_buyvolume.csv\")\n",
    "f9=pd.read_csv(\"C:/Users/Rajat/Desktop/AD_Score-54/AD_10jun_buyvolume_cv.csv\")\n",
    "f10=pd.read_csv(\"C:/Users/Rajat/Desktop/AD_Score-54/AD_10jun_buyvolume.csv\")"
   ]
  },
  {
   "cell_type": "code",
   "execution_count": null,
   "metadata": {
    "collapsed": true
   },
   "outputs": [],
   "source": [
    "buy=pd.merge(pd.merge(f3,f5,on='id'),f3,on='id')"
   ]
  }
 ],
 "metadata": {
  "anaconda-cloud": {},
  "kernelspec": {
   "display_name": "Python [Root]",
   "language": "python",
   "name": "Python [Root]"
  },
  "language_info": {
   "codemirror_mode": {
    "name": "ipython",
    "version": 3
   },
   "file_extension": ".py",
   "mimetype": "text/x-python",
   "name": "python",
   "nbconvert_exporter": "python",
   "pygments_lexer": "ipython3",
   "version": "3.5.2"
  }
 },
 "nbformat": 4,
 "nbformat_minor": 0
}
