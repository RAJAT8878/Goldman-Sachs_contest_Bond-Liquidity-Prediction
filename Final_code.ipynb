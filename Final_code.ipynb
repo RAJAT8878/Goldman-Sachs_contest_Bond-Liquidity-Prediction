{
 "cells": [
  {
   "cell_type": "code",
   "execution_count": 1,
   "metadata": {
    "collapsed": false,
    "scrolled": true
   },
   "outputs": [
    {
     "name": "stderr",
     "output_type": "stream",
     "text": [
      "/home/yuvraj/anaconda3/lib/python3.5/site-packages/sklearn/lda.py:4: DeprecationWarning: lda.LDA has been moved to discriminant_analysis.LinearDiscriminantAnalysis in 0.17 and will be removed in 0.19\n",
      "  \"in 0.17 and will be removed in 0.19\", DeprecationWarning)\n",
      "/home/yuvraj/anaconda3/lib/python3.5/site-packages/sklearn/qda.py:4: DeprecationWarning: qda.QDA has been moved to discriminant_analysis.QuadraticDiscriminantAnalysis in 0.17 and will be removed in 0.19.\n",
      "  \"in 0.17 and will be removed in 0.19.\", DeprecationWarning)\n"
     ]
    }
   ],
   "source": [
    "import pandas as pd\n",
    "import numpy as np\n",
    "from sklearn import *\n",
    "import xgboost as xgb\n",
    "import itertools\n",
    "# import matplotlib.pyplot as plt\n",
    "# import seaborn"
   ]
  },
  {
   "cell_type": "code",
   "execution_count": 2,
   "metadata": {
    "collapsed": true
   },
   "outputs": [],
   "source": [
    "trades=pd.read_csv('dataset.csv')\n",
    "bonds=pd.read_csv('ML_Bond_metadata_corrected_dates.csv')"
   ]
  },
  {
   "cell_type": "code",
   "execution_count": 3,
   "metadata": {
    "collapsed": true
   },
   "outputs": [],
   "source": [
    "trades1=pd.read_csv('dataset.csv')"
   ]
  },
  {
   "cell_type": "code",
   "execution_count": 4,
   "metadata": {
    "collapsed": false
   },
   "outputs": [],
   "source": [
    "bonds.ratingAgency1EffectiveDate=pd.to_datetime(bonds.ratingAgency1EffectiveDate)\n",
    "bonds.ratingAgency2EffectiveDate=pd.to_datetime(bonds.ratingAgency2EffectiveDate)\n",
    "\n",
    "df_temp=bonds.issuer.value_counts().reset_index().rename(columns={'index':'issuer','issuer':'issuer_freq'})\n",
    "bonds=pd.merge(bonds,df_temp,on='issuer',how='left')\n",
    "bonds.drop(labels='issuer',inplace=1,axis=1)\n",
    "del df_temp"
   ]
  },
  {
   "cell_type": "code",
   "execution_count": 5,
   "metadata": {
    "collapsed": false
   },
   "outputs": [],
   "source": [
    "isin_freq=trades['isin'].value_counts().reset_index().rename(columns={'index':'isin','isin':'isin_counts'})\n",
    "days_freq=trades.groupby(['isin']).date.nunique().reset_index().rename(columns={'date':'trade_freq_days'})"
   ]
  },
  {
   "cell_type": "code",
   "execution_count": 6,
   "metadata": {
    "collapsed": false
   },
   "outputs": [],
   "source": [
    "trades['date']=pd.to_datetime(trades.date,format='%d%b%Y')\n",
    "\n",
    "df_avg=trades.groupby(['isin','date','side']).volume.sum().reset_index()\n",
    "df1=df_avg[df_avg.side=='B'].rename(columns={'volume':'buyvolume'})\n",
    "df2=df_avg[df_avg.side=='S'].rename(columns={'volume':'sellvolume'})\n",
    "\n",
    "df1.drop(labels='side',axis=1,inplace=1)\n",
    "df2.drop(labels='side',axis=1,inplace=1)\n",
    "\n",
    "trades=pd.merge(df1,df2,on=['isin','date'],how='outer')\n",
    "trades.loc[trades.buyvolume.isnull(),'buyvolume']=0\n",
    "trades.loc[trades.sellvolume.isnull(),'sellvolume']=0"
   ]
  },
  {
   "cell_type": "code",
   "execution_count": 7,
   "metadata": {
    "collapsed": true
   },
   "outputs": [],
   "source": [
    "def volume_three_days(date,num,):\n",
    "    three_days=date-pd.Timedelta(days=2)\n",
    "    df=trades[(trades.date<=date) & (trades.date>=three_days)]\n",
    "    df=df.groupby('isin').agg({'buyvolume':'sum','sellvolume':'sum'}).reset_index()\n",
    "\n",
    "    \n",
    "    df_2=pd.DataFrame()\n",
    "    df_2['isin']=list(set(unique_bonds)-set(df['isin'].unique()))\n",
    "    df_2['buyvolume']=0\n",
    "    df_2['sellvolume']=0\n",
    "    df=df.append(df_2)\n",
    "    \n",
    "    df['start_date']=three_days\n",
    "    df['end_date']=date\n",
    "    df['num']=num\n",
    "    return df\n",
    "\n",
    "def volume_last_three_days(num):\n",
    "    df=train[train.num==num+1][['isin','buyvolume','sellvolume']]\n",
    "    df['num']=num\n",
    "    df.rename(columns={'buyvolume':'buy_last_three_days','sellvolume':'sell_last_three_days'},inplace=1)\n",
    "    return df\n",
    "    \n",
    "def vol_till_now(date):\n",
    "    three_days=date-pd.Timedelta(days=2)\n",
    "    df=trades[(trades.date<=date) & (trades.date>=three_days)]\n",
    "    df=df.groupby('isin').agg({'buyvolume':'sum','sellvolume':'sum'}).reset_index()\n",
    "\n",
    "    \n",
    "    df_2=pd.DataFrame()\n",
    "    df_2['isin']=list(set(unique_bonds)-set(df['isin'].unique()))\n",
    "    df_2['buyvolume']=0\n",
    "    df_2['sellvolume']=0\n",
    "    df=df.append(df_2)\n",
    "    \n",
    "    df['start_date']=three_days\n",
    "    df['end_date']=date\n",
    "    df['num']=num\n",
    "    return df\n",
    "    "
   ]
  },
  {
   "cell_type": "code",
   "execution_count": 8,
   "metadata": {
    "collapsed": false
   },
   "outputs": [],
   "source": [
    "last_date=pd.to_datetime('2016-06-09')\n",
    "train=pd.DataFrame()\n",
    "unique_bonds=trades['isin'].unique()\n",
    "for idx,_ in enumerate(range(1,86,3)):\n",
    "    train=train.append(volume_three_days(last_date,idx))\n",
    "    last_date-=pd.Timedelta(days=3)"
   ]
  },
  {
   "cell_type": "code",
   "execution_count": 9,
   "metadata": {
    "collapsed": false
   },
   "outputs": [],
   "source": [
    "last_three=pd.DataFrame()\n",
    "for idx in range (0,28):\n",
    "    last_three=last_three.append(volume_last_three_days(idx))"
   ]
  },
  {
   "cell_type": "code",
   "execution_count": 10,
   "metadata": {
    "collapsed": true
   },
   "outputs": [],
   "source": [
    "train=pd.merge(train,last_three,on=['isin','num'],how='left')\n",
    "train=pd.merge(train,bonds,on='isin',how='left')"
   ]
  },
  {
   "cell_type": "code",
   "execution_count": 11,
   "metadata": {
    "collapsed": false
   },
   "outputs": [],
   "source": [
    "train['spike_1']=0\n",
    "train.loc[(train.ratingAgency1EffectiveDate>=train.start_date),'spike_1']=1\n",
    "\n",
    "train['spike_2']=0\n",
    "train.loc[(train.ratingAgency2EffectiveDate>=train.start_date),'spike_1']=1\n",
    "\n",
    "# train=train[(train.spike_1==0) & (train.spike_2==0)]"
   ]
  },
  {
   "cell_type": "code",
   "execution_count": 12,
   "metadata": {
    "collapsed": false
   },
   "outputs": [],
   "source": [
    "train=pd.merge(train,isin_freq,on='isin',how='left')\n",
    "train=pd.merge(train,days_freq,on='isin',how='left')\n",
    "train['month']=train.start_date.dt.month"
   ]
  },
  {
   "cell_type": "code",
   "execution_count": 13,
   "metadata": {
    "collapsed": false
   },
   "outputs": [],
   "source": [
    "# mean_volume=train.groupby('isin').agg({'buyvolume':'sum','sellvolume':'sum'\n",
    "#                                       }).reset_index().rename(columns={'buyvolume':'avg_buyvolume',\n",
    "#                                                                        'sellvolume':'avg_sellvolume'})\n",
    "\n",
    "# mean_volume['difference']=mean_volume.avg_buyvolume-mean_volume.avg_sellvolume\n",
    "\n",
    "# train=pd.merge(train,mean_volume[['isin','difference']],on='isin',how='left')\n",
    "# test=pd.merge(test,mean_volume[['isin','difference']],on='isin',how='left')"
   ]
  },
  {
   "cell_type": "code",
   "execution_count": 14,
   "metadata": {
    "collapsed": false,
    "scrolled": true
   },
   "outputs": [
    {
     "name": "stderr",
     "output_type": "stream",
     "text": [
      "/home/yuvraj/anaconda3/lib/python3.5/site-packages/ipykernel/__main__.py:2: SettingWithCopyWarning: \n",
      "A value is trying to be set on a copy of a slice from a DataFrame\n",
      "\n",
      "See the caveats in the documentation: http://pandas.pydata.org/pandas-docs/stable/indexing.html#indexing-view-versus-copy\n",
      "  from ipykernel import kernelapp as app\n",
      "/home/yuvraj/anaconda3/lib/python3.5/site-packages/pandas/core/frame.py:2754: SettingWithCopyWarning: \n",
      "A value is trying to be set on a copy of a slice from a DataFrame\n",
      "\n",
      "See the caveats in the documentation: http://pandas.pydata.org/pandas-docs/stable/indexing.html#indexing-view-versus-copy\n",
      "  **kwargs)\n"
     ]
    }
   ],
   "source": [
    "test=train[train.num==0]\n",
    "test.drop(labels=['buy_last_three_days','sell_last_three_days'],axis=1,inplace=1)\n",
    "test.rename(columns={'buyvolume':'buy_last_three_days','sellvolume':'sell_last_three_days'},inplace=1)"
   ]
  },
  {
   "cell_type": "code",
   "execution_count": 15,
   "metadata": {
    "collapsed": false
   },
   "outputs": [],
   "source": [
    "features=list(set(test.columns)-set(['isin','start_date','end_date','num','ratingAgency1EffectiveDate','ratingAgency2EffectiveDate',\n",
    "                                    'issueDate','maturity','industrySubgroup',]))"
   ]
  },
  {
   "cell_type": "code",
   "execution_count": 16,
   "metadata": {
    "collapsed": false
   },
   "outputs": [
    {
     "name": "stderr",
     "output_type": "stream",
     "text": [
      "/home/yuvraj/anaconda3/lib/python3.5/site-packages/pandas/core/generic.py:3443: SettingWithCopyWarning: \n",
      "A value is trying to be set on a copy of a slice from a DataFrame\n",
      "\n",
      "See the caveats in the documentation: http://pandas.pydata.org/pandas-docs/stable/indexing.html#indexing-view-versus-copy\n",
      "  self._update_inplace(new_data)\n",
      "/home/yuvraj/anaconda3/lib/python3.5/site-packages/ipykernel/__main__.py:8: SettingWithCopyWarning: \n",
      "A value is trying to be set on a copy of a slice from a DataFrame.\n",
      "Try using .loc[row_indexer,col_indexer] = value instead\n",
      "\n",
      "See the caveats in the documentation: http://pandas.pydata.org/pandas-docs/stable/indexing.html#indexing-view-versus-copy\n"
     ]
    }
   ],
   "source": [
    "for col in features:\n",
    "    if train[col].dtype=='O':\n",
    "        train[col].replace(np.nan,'AAAA',inplace=1)\n",
    "        test[col].replace(np.nan,'AAAA',inplace=1)\n",
    "        lr=preprocessing.LabelEncoder()\n",
    "        lr.fit(list(train[col])+list(test[col]))\n",
    "        train[col]=lr.transform(train[col])\n",
    "        test[col]=lr.transform(test[col])\n",
    "    else:\n",
    "        train[col].replace(np.nan,-1,inplace=1)\n",
    "        test[col].replace(np.nan,-1,inplace=1)\n",
    "        \n"
   ]
  },
  {
   "cell_type": "code",
   "execution_count": 92,
   "metadata": {
    "collapsed": true
   },
   "outputs": [],
   "source": [
    "params={\"objective\":'reg:linear',     \n",
    "    \"learning_rate\":0.1,\n",
    "#     \"min_child_weight\": 5,\n",
    "    \"subsample\":0.6,\n",
    "    \"colsample_bytree\": 0.7,\n",
    "        'eval_metric':'rmse',\n",
    "    \"max_depth\":6,\n",
    "#     'eta':.7,\n",
    "    'silent':1,\n",
    "    'nthread':3,\n",
    "        \n",
    "       }"
   ]
  },
  {
   "cell_type": "code",
   "execution_count": 122,
   "metadata": {
    "collapsed": true
   },
   "outputs": [],
   "source": [
    "def model(train,test,features,params,isrf,islr,target):    \n",
    "    cv=[]\n",
    "    truth=[]\n",
    "    cv_scores=[]\n",
    "    lst=[]\n",
    "    skf=cross_validation.KFold(len(train),n_folds=4,random_state=0)\n",
    "    for idx1,idx2 in skf:\n",
    "        \n",
    "        x_train,x_cv=train[features].iloc[idx1],train[features].iloc[idx2]\n",
    "        y_train,y_cv=train[target].iloc[idx1],train[target].iloc[idx2]\n",
    "        truth.extend(y_cv)\n",
    "#     x_train,x_cv=train[train.num!=0][features],train[train.num==0][features]\n",
    "#     y_train,y_cv=train[train.num!=0].sellvolume,train[train.num==0].sellvolume\n",
    "       \n",
    "        if isrf:\n",
    "            lr=ensemble.RandomForestRegressor(n_estimators=40,random_state=2016)\n",
    "            lr.fit(x_train,y_train)\n",
    "            cv.extend(lr.predict(x_cv))\n",
    "\n",
    "            lst.append(lr.predict(test[features]))\n",
    "            print(metrics.mean_squared_error(y_cv,lr.predict(x_cv))**.5)\n",
    "            cv_scores.append(lr.feature_importances_)\n",
    "\n",
    "\n",
    "\n",
    "        elif islr:\n",
    "\n",
    "            lr=linear_model.LinearRegression()\n",
    "            lr.fit(x_train,y_train)\n",
    "            cv.extend(lr.predict(x_cv))\n",
    "\n",
    "            lst.append(lr.predict(test[features]))\n",
    "            print(metrics.mean_squared_error(y_cv,lr.predict(x_cv))**.5)\n",
    "            cv_scores.append(np.absolute(lr.coef_))\n",
    "\n",
    "\n",
    "        else:\n",
    "\n",
    "            dtrain=xgb.DMatrix(x_train.values,y_train)\n",
    "            dvalid=xgb.DMatrix(x_cv.values,y_cv)\n",
    "            dtest=xgb.DMatrix(test[features].values)\n",
    "            watchlist = [ (dtrain, 'train'),(dvalid, 'cv')]\n",
    "\n",
    "            gbm=xgb.train(params,dtrain,6000,evals=watchlist,early_stopping_rounds=30,verbose_eval=.00001);\n",
    "            cv.extend(gbm.predict(dvalid))\n",
    "            cv_scores.append(metrics.mean_absolute_error(y_cv,gbm.predict(dvalid)))\n",
    "            lst.append(gbm.predict(dtest))\n",
    "    print ('Overall',metrics.mean_squared_error(truth,np.array(cv))**.5)\n",
    "    #     print ('Test error',metrics.mean_absolute_error(test.DV,np.average(lst,axis=0)))\n",
    "    return cv,lst,np.average(cv_scores,axis=0),truth\n"
   ]
  },
  {
   "cell_type": "code",
   "execution_count": 20,
   "metadata": {
    "collapsed": true
   },
   "outputs": [],
   "source": [
    "cv_preds=pd.DataFrame()\n",
    "lst1=[]\n",
    "lst2=[]\n",
    "skf=cross_validation.KFold(len(train),n_folds=5,random_state=0)\n",
    "for _,idx2 in skf:\n",
    "    lst1.extend(train.buyvolume.iloc[idx2])\n",
    "    lst2.extend(train.sellvolume.iloc[idx2])\n",
    "\n",
    "cv_preds['buyvolume']=lst1\n",
    "cv_preds['sellvolume']=lst2"
   ]
  },
  {
   "cell_type": "code",
   "execution_count": 32,
   "metadata": {
    "collapsed": true
   },
   "outputs": [],
   "source": [
    "output=model(train,test,features,params,0,1,'buyvolume')\n",
    "cv_preds['buy_lr']=output[0]\n",
    "test_preds['buy_lr']=np.average(output[1],axis=0)\n",
    "\n",
    "output=model(train,test,features,params,0,1,'sellvolume')\n",
    "cv_preds['sell_lr']=output[0]\n",
    "test_preds['sell_lr']=np.average(output[1],axis=0)\n",
    "\n",
    "output=model(train,test,features,params,0,0,'buyvolume')\n",
    "cv_preds['buy_xgb']=output[0]\n",
    "test_preds['buy_xgb']=np.average(output[1],axis=0)\n",
    "\n",
    "output=model(train,test,features,params,0,0,'sellvolume')\n",
    "cv_preds['sell_xgb']=output[0]\n",
    "test_preds['sell_xgb']=np.average(output[1],axis=0)\n",
    "\n"
   ]
  },
  {
   "cell_type": "code",
   "execution_count": 120,
   "metadata": {
    "collapsed": false
   },
   "outputs": [],
   "source": [
    "result1=pd.DataFrame()\n",
    "result1['isin']=test['isin']\n",
    "\n"
   ]
  },
  {
   "cell_type": "code",
   "execution_count": 119,
   "metadata": {
    "collapsed": false,
    "scrolled": false
   },
   "outputs": [
    {
     "name": "stderr",
     "output_type": "stream",
     "text": [
      "/home/yuvraj/anaconda3/lib/python3.5/site-packages/sklearn/linear_model/coordinate_descent.py:466: ConvergenceWarning: Objective did not converge. You might want to increase the number of iterations\n",
      "  ConvergenceWarning)\n"
     ]
    },
    {
     "name": "stdout",
     "output_type": "stream",
     "text": [
      "4893291.01821\n",
      "7194887.18248\n",
      "5507483.90506\n",
      "5022133.33343\n",
      "Overall 5728543.22332\n"
     ]
    }
   ],
   "source": [
    "output=model(cv_preds,test_preds,['buy_lr','buy_xgb','sell_lr','sell_xgb'],params,0,0,'buyvolume')\n",
    "result1['buyvolume']=np.average(output[1],axis=0)\n",
    "\n",
    "output=model(cv_preds,test_preds,['buy_lr','buy_xgb','sell_lr','sell_xgb'],params,0,0,'sellvolume')\n",
    "result1['sellvolume']=np.average(output[1],axis=0)"
   ]
  },
  {
   "cell_type": "code",
   "execution_count": 121,
   "metadata": {
    "collapsed": true
   },
   "outputs": [],
   "source": [
    "result1.to_csv('outout.csv',index=0)"
   ]
  }
 ],
 "metadata": {
  "anaconda-cloud": {},
  "kernelspec": {
   "display_name": "Python [Root]",
   "language": "python",
   "name": "Python [Root]"
  },
  "language_info": {
   "codemirror_mode": {
    "name": "ipython",
    "version": 3
   },
   "file_extension": ".py",
   "mimetype": "text/x-python",
   "name": "python",
   "nbconvert_exporter": "python",
   "pygments_lexer": "ipython3",
   "version": "3.5.2"
  }
 },
 "nbformat": 4,
 "nbformat_minor": 0
}
